{
  "nbformat": 4,
  "nbformat_minor": 0,
  "metadata": {
    "colab": {
      "provenance": [],
      "authorship_tag": "ABX9TyNQZ4ZkBzKbBBiavMliXq//",
      "include_colab_link": true
    },
    "kernelspec": {
      "name": "python3",
      "display_name": "Python 3"
    },
    "language_info": {
      "name": "python"
    }
  },
  "cells": [
    {
      "cell_type": "markdown",
      "metadata": {
        "id": "view-in-github",
        "colab_type": "text"
      },
      "source": [
        "<a href=\"https://colab.research.google.com/github/Kaushik1526/1BM21CS089-AI/blob/main/FOLtoCNF.ipynb\" target=\"_parent\"><img src=\"https://colab.research.google.com/assets/colab-badge.svg\" alt=\"Open In Colab\"/></a>"
      ]
    },
    {
      "cell_type": "code",
      "execution_count": 4,
      "metadata": {
        "colab": {
          "base_uri": "https://localhost:8080/",
          "height": 435
        },
        "id": "BBgy-aFHhGBs",
        "outputId": "111db09a-3df0-4d6e-9294-f9e7550200c1"
      },
      "outputs": [
        {
          "output_type": "error",
          "ename": "RecursionError",
          "evalue": "maximum recursion depth exceeded while calling a Python object",
          "traceback": [
            "\u001b[0;31m---------------------------------------------------------------------------\u001b[0m",
            "\u001b[0;31mRecursionError\u001b[0m                            Traceback (most recent call last)",
            "\u001b[0;32m<ipython-input-4-15ec61ba3880>\u001b[0m in \u001b[0;36m<cell line: 94>\u001b[0;34m()\u001b[0m\n\u001b[1;32m     92\u001b[0m \u001b[0;34m\u001b[0m\u001b[0m\n\u001b[1;32m     93\u001b[0m \u001b[0;34m\u001b[0m\u001b[0m\n\u001b[0;32m---> 94\u001b[0;31m \u001b[0mprint\u001b[0m\u001b[0;34m(\u001b[0m\u001b[0mSkolemization\u001b[0m\u001b[0;34m(\u001b[0m\u001b[0mfol_to_cnf\u001b[0m\u001b[0;34m(\u001b[0m\u001b[0;34m\"animal(y)<=>loves(x,y)\"\u001b[0m\u001b[0;34m)\u001b[0m\u001b[0;34m)\u001b[0m\u001b[0;34m)\u001b[0m\u001b[0;34m\u001b[0m\u001b[0;34m\u001b[0m\u001b[0m\n\u001b[0m\u001b[1;32m     95\u001b[0m \u001b[0mprint\u001b[0m\u001b[0;34m(\u001b[0m\u001b[0mSkolemization\u001b[0m\u001b[0;34m(\u001b[0m\u001b[0mfol_to_cnf\u001b[0m\u001b[0;34m(\u001b[0m\u001b[0;34m\"∀x[∀y[animal(y)=>loves(x,y)]]=>[∃z[loves(z,x)]]\"\u001b[0m\u001b[0;34m)\u001b[0m\u001b[0;34m)\u001b[0m\u001b[0;34m)\u001b[0m\u001b[0;34m\u001b[0m\u001b[0;34m\u001b[0m\u001b[0m\n\u001b[1;32m     96\u001b[0m \u001b[0mprint\u001b[0m\u001b[0;34m(\u001b[0m\u001b[0mfol_to_cnf\u001b[0m\u001b[0;34m(\u001b[0m\u001b[0;34m\"[american(x)&weapon(y)&sells(x,y,z)&hostile(z)]=>criminal(x)\"\u001b[0m\u001b[0;34m)\u001b[0m\u001b[0;34m)\u001b[0m\u001b[0;34m\u001b[0m\u001b[0;34m\u001b[0m\u001b[0m\n",
            "\u001b[0;32m<ipython-input-4-15ec61ba3880>\u001b[0m in \u001b[0;36mfol_to_cnf\u001b[0;34m(fol)\u001b[0m\n\u001b[1;32m     63\u001b[0m             \u001b[0mstatements\u001b[0m\u001b[0;34m[\u001b[0m\u001b[0mi\u001b[0m\u001b[0;34m]\u001b[0m \u001b[0;34m+=\u001b[0m \u001b[0;34m']'\u001b[0m\u001b[0;34m\u001b[0m\u001b[0;34m\u001b[0m\u001b[0m\n\u001b[1;32m     64\u001b[0m     \u001b[0;32mfor\u001b[0m \u001b[0ms\u001b[0m \u001b[0;32min\u001b[0m \u001b[0mstatements\u001b[0m\u001b[0;34m:\u001b[0m\u001b[0;34m\u001b[0m\u001b[0;34m\u001b[0m\u001b[0m\n\u001b[0;32m---> 65\u001b[0;31m         \u001b[0mstatement\u001b[0m \u001b[0;34m=\u001b[0m \u001b[0mstatement\u001b[0m\u001b[0;34m.\u001b[0m\u001b[0mreplace\u001b[0m\u001b[0;34m(\u001b[0m\u001b[0ms\u001b[0m\u001b[0;34m,\u001b[0m \u001b[0mfol_to_cnf\u001b[0m\u001b[0;34m(\u001b[0m\u001b[0ms\u001b[0m\u001b[0;34m)\u001b[0m\u001b[0;34m)\u001b[0m\u001b[0;34m\u001b[0m\u001b[0;34m\u001b[0m\u001b[0m\n\u001b[0m\u001b[1;32m     66\u001b[0m     \u001b[0;32mwhile\u001b[0m \u001b[0;34m'-'\u001b[0m \u001b[0;32min\u001b[0m \u001b[0mstatement\u001b[0m\u001b[0;34m:\u001b[0m\u001b[0;34m\u001b[0m\u001b[0;34m\u001b[0m\u001b[0m\n\u001b[1;32m     67\u001b[0m         \u001b[0mi\u001b[0m \u001b[0;34m=\u001b[0m \u001b[0mstatement\u001b[0m\u001b[0;34m.\u001b[0m\u001b[0mindex\u001b[0m\u001b[0;34m(\u001b[0m\u001b[0;34m'-'\u001b[0m\u001b[0;34m)\u001b[0m\u001b[0;34m\u001b[0m\u001b[0;34m\u001b[0m\u001b[0m\n",
            "... last 1 frames repeated, from the frame below ...\n",
            "\u001b[0;32m<ipython-input-4-15ec61ba3880>\u001b[0m in \u001b[0;36mfol_to_cnf\u001b[0;34m(fol)\u001b[0m\n\u001b[1;32m     63\u001b[0m             \u001b[0mstatements\u001b[0m\u001b[0;34m[\u001b[0m\u001b[0mi\u001b[0m\u001b[0;34m]\u001b[0m \u001b[0;34m+=\u001b[0m \u001b[0;34m']'\u001b[0m\u001b[0;34m\u001b[0m\u001b[0;34m\u001b[0m\u001b[0m\n\u001b[1;32m     64\u001b[0m     \u001b[0;32mfor\u001b[0m \u001b[0ms\u001b[0m \u001b[0;32min\u001b[0m \u001b[0mstatements\u001b[0m\u001b[0;34m:\u001b[0m\u001b[0;34m\u001b[0m\u001b[0;34m\u001b[0m\u001b[0m\n\u001b[0;32m---> 65\u001b[0;31m         \u001b[0mstatement\u001b[0m \u001b[0;34m=\u001b[0m \u001b[0mstatement\u001b[0m\u001b[0;34m.\u001b[0m\u001b[0mreplace\u001b[0m\u001b[0;34m(\u001b[0m\u001b[0ms\u001b[0m\u001b[0;34m,\u001b[0m \u001b[0mfol_to_cnf\u001b[0m\u001b[0;34m(\u001b[0m\u001b[0ms\u001b[0m\u001b[0;34m)\u001b[0m\u001b[0;34m)\u001b[0m\u001b[0;34m\u001b[0m\u001b[0;34m\u001b[0m\u001b[0m\n\u001b[0m\u001b[1;32m     66\u001b[0m     \u001b[0;32mwhile\u001b[0m \u001b[0;34m'-'\u001b[0m \u001b[0;32min\u001b[0m \u001b[0mstatement\u001b[0m\u001b[0;34m:\u001b[0m\u001b[0;34m\u001b[0m\u001b[0;34m\u001b[0m\u001b[0m\n\u001b[1;32m     67\u001b[0m         \u001b[0mi\u001b[0m \u001b[0;34m=\u001b[0m \u001b[0mstatement\u001b[0m\u001b[0;34m.\u001b[0m\u001b[0mindex\u001b[0m\u001b[0;34m(\u001b[0m\u001b[0;34m'-'\u001b[0m\u001b[0;34m)\u001b[0m\u001b[0;34m\u001b[0m\u001b[0;34m\u001b[0m\u001b[0m\n",
            "\u001b[0;31mRecursionError\u001b[0m: maximum recursion depth exceeded while calling a Python object"
          ]
        }
      ],
      "source": [
        "def getAttributes(string):\n",
        "    expr = '[)]+'\n",
        "    matches = re.findall(expr, string)\n",
        "    return [m for m in str(matches) if m.isalpha()]\n",
        "\n",
        "def getPredicates(string):\n",
        "    expr = '[a-z~]+[A-Za-z]+'\n",
        "    return re.findall(expr, string)\n",
        "\n",
        "def DeMorgan(sentence):\n",
        "    string = ''.join(list(sentence).copy())\n",
        "    string = string.replace('~~','')\n",
        "    flag = '[' in string\n",
        "    string = string.replace('~[','')\n",
        "    string = string.strip(']')\n",
        "    for predicate in getPredicates(string):\n",
        "        string = string.replace(predicate, f'~{predicate}')\n",
        "    s = list(string)\n",
        "    for i, c in enumerate(string):\n",
        "        if c == '|':\n",
        "            s[i] = '&'\n",
        "        elif c == '&':\n",
        "            s[i] = '|'\n",
        "    string = ''.join(s)\n",
        "    string = string.replace('~~','')\n",
        "    return f'[{string}]' if flag else string\n",
        "\n",
        "def Skolemization(sentence):\n",
        "    SKOLEM_CONSTANTS = [f'{chr(c)}' for c in range(ord('A'), ord('Z')+1)]\n",
        "    statement = ''.join(list(sentence).copy())\n",
        "    matches = re.findall('[∀∃].', statement)\n",
        "    for match in matches[::-1]:\n",
        "        statement = statement.replace(match, '')\n",
        "        statements = re.findall(']', statement)\n",
        "        for s in statements:\n",
        "            statement = statement.replace(s, s[1:-1])\n",
        "        for predicate in getPredicates(statement):\n",
        "            attributes = getAttributes(predicate)\n",
        "            if ''.join(attributes).islower():\n",
        "                statement = statement.replace(match[1],SKOLEM_CONSTANTS.pop(0))\n",
        "            else:\n",
        "                aL = [a for a in attributes if a.islower()]\n",
        "                aU = [a for a in attributes if not a.islower()][0]\n",
        "                statement = statement.replace(aU, f'{SKOLEM_CONSTANTS.pop(0)}({aL[0] if len(aL) else match[1]})')\n",
        "    return statement\n",
        "\n",
        "\n",
        "\n",
        "import re\n",
        "\n",
        "def fol_to_cnf(fol):\n",
        "\n",
        "    statement = fol.replace(\"<=>\", \"_\")\n",
        "    while '_' in statement:\n",
        "        i = statement.index('_')\n",
        "        new_statement = '[' + statement[:i] + '=>' + statement[i+1:] + ']&['+ statement[i+1:] + '=>' + statement[:i] + ']'\n",
        "        statement = new_statement\n",
        "    statement = statement.replace(\"=>\", \"-\")\n",
        "    expr = ''\n",
        "    statements = re.findall(expr, statement)\n",
        "    for i, s in enumerate(statements):\n",
        "        if '[' in s and ']' not in s:\n",
        "            statements[i] += ']'\n",
        "    for s in statements:\n",
        "        statement = statement.replace(s, fol_to_cnf(s))\n",
        "    while '-' in statement:\n",
        "        i = statement.index('-')\n",
        "        br = statement.index('[') if '[' in statement else 0\n",
        "        new_statement = '~' + statement[br:i] + '|' + statement[i+1:]\n",
        "        statement = statement[:br] + new_statement if br > 0 else new_statement\n",
        "    while '~∀' in statement:\n",
        "        i = statement.index('~∀')\n",
        "        statement = list(statement)\n",
        "        statement[i], statement[i+1], statement[i+2] = '∃', statement[i+2], '~'\n",
        "        statement = ''.join(statement)\n",
        "    while '~∃' in statement:\n",
        "        i = statement.index('~∃')\n",
        "        s = list(statement)\n",
        "        s[i], s[i+1], s[i+2] = '∀', s[i+2], '~'\n",
        "        statement = ''.join(s)\n",
        "    statement = statement.replace('~[∀','[~∀')\n",
        "    statement = statement.replace('~[∃','[~∃')\n",
        "    expr = '(~[∀|∃].)'\n",
        "    statements = re.findall(expr, statement)\n",
        "    for s in statements:\n",
        "        statement = statement.replace(s, fol_to_cnf(s))\n",
        "    expr = '~'\n",
        "    statements = re.findall(expr, statement)\n",
        "    for s in statements:\n",
        "        statement = statement.replace(s, DeMorgan(s))\n",
        "    return statement\n",
        "\n",
        "\n",
        "print(Skolemization(fol_to_cnf(\"animal(y)<=>loves(x,y)\")))\n",
        "print(Skolemization(fol_to_cnf(\"∀x[∀y[animal(y)=>loves(x,y)]]=>[∃z[loves(z,x)]]\")))\n",
        "print(fol_to_cnf(\"[american(x)&weapon(y)&sells(x,y,z)&hostile(z)]=>criminal(x)\"))\n"
      ]
    }
  ]
}