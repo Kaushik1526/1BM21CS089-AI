{
  "nbformat": 4,
  "nbformat_minor": 0,
  "metadata": {
    "colab": {
      "provenance": [],
      "authorship_tag": "ABX9TyNIc3q8jdCK2s9N/YeSnGGk",
      "include_colab_link": true
    },
    "kernelspec": {
      "name": "python3",
      "display_name": "Python 3"
    },
    "language_info": {
      "name": "python"
    }
  },
  "cells": [
    {
      "cell_type": "markdown",
      "metadata": {
        "id": "view-in-github",
        "colab_type": "text"
      },
      "source": [
        "<a href=\"https://colab.research.google.com/github/Kaushik1526/1BM21CS089-AI/blob/main/Lab_0.ipynb\" target=\"_parent\"><img src=\"https://colab.research.google.com/assets/colab-badge.svg\" alt=\"Open In Colab\"/></a>"
      ]
    },
    {
      "cell_type": "markdown",
      "source": [
        "Wapp to implement else-if ladder for checking age criteria."
      ],
      "metadata": {
        "id": "nw9gV74Ftci9"
      }
    },
    {
      "cell_type": "code",
      "source": [
        "def check_age_criteria(age):\n",
        "    if age <= 12:\n",
        "        return \"child\"\n",
        "    elif 12<age<=17:\n",
        "        return \"adolescent\"\n",
        "    elif 17<age<=30:\n",
        "        return \"Young Adult\"\n",
        "    elif 30<age<=50:\n",
        "        return \"Middle Aged\"\n",
        "    elif 50<age<=100:\n",
        "        return \"Old Aged\"\n",
        "    else:\n",
        "        return \"Invalid age\"\n",
        "age= int(input(\"Enter your age:\"))\n",
        "result= check_age_criteria(age)\n",
        "print(result)"
      ],
      "metadata": {
        "colab": {
          "base_uri": "https://localhost:8080/"
        },
        "id": "G8fwAPx2tt67",
        "outputId": "662e6db0-cea6-4819-c297-d5a100934130"
      },
      "execution_count": null,
      "outputs": [
        {
          "output_type": "stream",
          "name": "stdout",
          "text": [
            "Enter your age:56\n",
            "Old Aged\n"
          ]
        }
      ]
    },
    {
      "cell_type": "markdown",
      "source": [
        "Wapp to to print 1,22,333,4444....."
      ],
      "metadata": {
        "id": "KVz7EFkJt6Wi"
      }
    },
    {
      "cell_type": "code",
      "source": [
        "def print_pattern(n):\n",
        "    for i in range(1,n+1):\n",
        "        for j in range (i):\n",
        "            print(i,end=\"\")\n",
        "        print()\n",
        "num=int(input(\"Enter an integer:\"))\n",
        "print_pattern(num)\n"
      ],
      "metadata": {
        "colab": {
          "base_uri": "https://localhost:8080/"
        },
        "id": "MHVrZJ2fuWvM",
        "outputId": "539ea1a5-6c26-4887-a926-0bd3224afd41"
      },
      "execution_count": null,
      "outputs": [
        {
          "output_type": "stream",
          "name": "stdout",
          "text": [
            "Enter an integer:5\n",
            "1\n",
            "22\n",
            "333\n",
            "4444\n",
            "55555\n"
          ]
        }
      ]
    },
    {
      "cell_type": "markdown",
      "source": [
        "Wapp to print 1,12,123,1234,12345...."
      ],
      "metadata": {
        "id": "5yerLmKouZ48"
      }
    },
    {
      "cell_type": "code",
      "source": [
        "def print_pattern(n):\n",
        "    for i in range(1, n+1):\n",
        "        for j in range(1,i+1):\n",
        "            print(j, end=\"\")\n",
        "        print()\n",
        "num=int(input(\"Enter an integer:\"))\n",
        "print_pattern(num)"
      ],
      "metadata": {
        "colab": {
          "base_uri": "https://localhost:8080/"
        },
        "id": "aSOsFTALuexn",
        "outputId": "31a63906-db5f-4bf9-a0fd-cd63bfd6401d"
      },
      "execution_count": null,
      "outputs": [
        {
          "output_type": "stream",
          "name": "stdout",
          "text": [
            "Enter an integer:5\n",
            "1\n",
            "12\n",
            "123\n",
            "1234\n",
            "12345\n"
          ]
        }
      ]
    },
    {
      "cell_type": "markdown",
      "source": [
        "Wapp to implement multiplication table for any given integer"
      ],
      "metadata": {
        "id": "BcXVUvpiupZx"
      }
    },
    {
      "cell_type": "code",
      "source": [
        "def print_table(n):\n",
        "    for i in range(1,11):\n",
        "        result = num*i\n",
        "        print(f\"{n} x {i} = {result}\")\n",
        "num=int(input(\"Enter a number:\"))\n",
        "print_table(num)"
      ],
      "metadata": {
        "colab": {
          "base_uri": "https://localhost:8080/"
        },
        "id": "JIFIdupluyP9",
        "outputId": "64586321-04af-4abc-fedf-8689d57afbc9"
      },
      "execution_count": null,
      "outputs": [
        {
          "output_type": "stream",
          "name": "stdout",
          "text": [
            "Enter a number:64\n",
            "64 x 1 = 64\n",
            "64 x 2 = 128\n",
            "64 x 3 = 192\n",
            "64 x 4 = 256\n",
            "64 x 5 = 320\n",
            "64 x 6 = 384\n",
            "64 x 7 = 448\n",
            "64 x 8 = 512\n",
            "64 x 9 = 576\n",
            "64 x 10 = 640\n"
          ]
        }
      ]
    },
    {
      "cell_type": "markdown",
      "source": [
        "Wapp to implement bubblesort"
      ],
      "metadata": {
        "id": "r9PAq5PwvMyd"
      }
    },
    {
      "cell_type": "code",
      "source": [
        "def bubble_sort(arr):\n",
        "    n = len(arr)\n",
        "    for i in range(n):\n",
        "        for j in range(0, n - i - 1):\n",
        "            if arr[j] > arr[j + 1]:\n",
        "                arr[j], arr[j + 1] = arr[j + 1], arr[j]\n",
        "arr = list(map(int,input(\"Enter elements of the array: \").split()))\n",
        "bubble_sort(arr)\n",
        "print(\"Sorted array:\", arr)"
      ],
      "metadata": {
        "colab": {
          "base_uri": "https://localhost:8080/"
        },
        "id": "2RweIjdDvUbD",
        "outputId": "3439f3d5-a4ce-47b8-9d2b-398a16cd1116"
      },
      "execution_count": null,
      "outputs": [
        {
          "output_type": "stream",
          "name": "stdout",
          "text": [
            "Enter elements of the array: 28 6 53 5 7 4\n",
            "Sorted array: [4, 5, 6, 7, 28, 53]\n"
          ]
        }
      ]
    },
    {
      "cell_type": "markdown",
      "source": [
        "Wapp to reverse a given integer"
      ],
      "metadata": {
        "id": "CXe7tLr_vbLd"
      }
    },
    {
      "cell_type": "code",
      "source": [
        "def reverse_integer(n):\n",
        "    reversed = int(str(n)[::-1])\n",
        "    return reversed\n",
        "num=int(input(\"Enter an integer: \"))\n",
        "result=reverse_integer(num)\n",
        "print(result)"
      ],
      "metadata": {
        "colab": {
          "base_uri": "https://localhost:8080/"
        },
        "id": "ZDDFUg6-vfrb",
        "outputId": "7c4d5378-aa64-4711-a214-abbdcf205918"
      },
      "execution_count": null,
      "outputs": [
        {
          "output_type": "stream",
          "name": "stdout",
          "text": [
            "Enter an integer: 4567898765432\n",
            "2345678987654\n"
          ]
        }
      ]
    }
  ]
}