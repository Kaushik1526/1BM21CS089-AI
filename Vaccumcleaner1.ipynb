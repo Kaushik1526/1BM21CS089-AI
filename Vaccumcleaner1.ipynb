{
  "nbformat": 4,
  "nbformat_minor": 0,
  "metadata": {
    "colab": {
      "provenance": [],
      "authorship_tag": "ABX9TyOe7/Iy2WRtRrrudPonUHqf",
      "include_colab_link": true
    },
    "kernelspec": {
      "name": "python3",
      "display_name": "Python 3"
    },
    "language_info": {
      "name": "python"
    }
  },
  "cells": [
    {
      "cell_type": "markdown",
      "metadata": {
        "id": "view-in-github",
        "colab_type": "text"
      },
      "source": [
        "<a href=\"https://colab.research.google.com/github/Kaushik1526/1BM21CS089-AI/blob/main/Vaccumcleaner1.ipynb\" target=\"_parent\"><img src=\"https://colab.research.google.com/assets/colab-badge.svg\" alt=\"Open In Colab\"/></a>"
      ]
    },
    {
      "cell_type": "code",
      "execution_count": 1,
      "metadata": {
        "colab": {
          "base_uri": "https://localhost:8080/"
        },
        "id": "m3AcAqHXmNNw",
        "outputId": "bf5aa521-99a1-4026-8548-73dd593d45b1"
      },
      "outputs": [
        {
          "output_type": "stream",
          "name": "stdout",
          "text": [
            "0 indicates clean and 1 indicates dirty\n",
            "Enter Location of Vacuumb1\n",
            "Enter status of b1clean\n",
            "Enter status of other roomdirty\n",
            "Vacuum is placed in location B\n",
            "0\n",
            "Location B is already clean.\n",
            "No action 0\n",
            "Location A is already clean.\n",
            "GOAL STATE: \n",
            "{'A': '0', 'B': '0'}\n",
            "Performance Measurement: 0\n"
          ]
        }
      ],
      "source": [
        "def vacuum_world():\n",
        "    # 0 indicates Clean and 1 indicates Dirty\n",
        "    goal_state = {'A': '0', 'B': '0'}\n",
        "    cost = 0\n",
        "\n",
        "    location_input = input(\"Enter Location of Vacuum\")\n",
        "    status_input = input(\"Enter status of \" + location_input)\n",
        "    status_input_complement = input(\"Enter status of other room\")\n",
        "\n",
        "    if location_input == 'A':\n",
        "        # Location A is Dirty.\n",
        "        print(\"Vacuum is placed in Location A\")\n",
        "        if status_input == '1':\n",
        "            print(\"Location A is Dirty.\")\n",
        "            # suck the dirt  and mark it as clean\n",
        "            cost += 1                      #cost for suck\n",
        "            print(\"Cost for CLEANING A \" + str(cost))\n",
        "            print(\"Location A has been Cleaned.\")\n",
        "\n",
        "            if status_input_complement == '1':\n",
        "                # if B is Dirty\n",
        "                print(\"Location B is Dirty.\")\n",
        "                print(\"Moving right to the Location B. \")\n",
        "                cost += 1                       #cost for moving right\n",
        "                print(\"COST for moving RIGHT\" + str(cost))\n",
        "                # suck the dirt and mark it as clean\n",
        "                cost += 1                       #cost for suck\n",
        "                print(\"COST for SUCK \" + str(cost))\n",
        "                print(\"Location B has been Cleaned. \")\n",
        "            else:\n",
        "                print(\"No action\" + str(cost))\n",
        "                # suck and mark clean\n",
        "                print(\"Location B is already clean.\")\n",
        "\n",
        "        if status_input == '0':\n",
        "            print(\"Location A is already clean \")\n",
        "            if status_input_complement == '1':# if B is Dirty\n",
        "                print(\"Location B is Dirty.\")\n",
        "                print(\"Moving RIGHT to the Location B. \")\n",
        "                cost += 1                       #cost for moving right\n",
        "                print(\"COST for moving RIGHT \" + str(cost))\n",
        "                # suck the dirt and mark it as clean\n",
        "                cost += 1                       #cost for suck\n",
        "                print(\"Cost for SUCK\" + str(cost))\n",
        "                print(\"Location B has been Cleaned. \")\n",
        "            else:\n",
        "                print(\"No action \" + str(cost))\n",
        "                print(cost)\n",
        "                # suck and mark clean\n",
        "                print(\"Location B is already clean.\")\n",
        "\n",
        "    else:\n",
        "        print(\"Vacuum is placed in location B\")\n",
        "        # Location B is Dirty.\n",
        "        if status_input == '1':\n",
        "            print(\"Location B is Dirty.\")\n",
        "            # suck the dirt  and mark it as clean\n",
        "            cost += 1  # cost for suck\n",
        "            print(\"COST for CLEANING \" + str(cost))\n",
        "            print(\"Location B has been Cleaned.\")\n",
        "\n",
        "            if status_input_complement == '1':\n",
        "                # if A is Dirty\n",
        "                print(\"Location A is Dirty.\")\n",
        "                print(\"Moving LEFT to the Location A. \")\n",
        "                cost += 1  # cost for moving right\n",
        "                print(\"COST for moving LEFT\" + str(cost))\n",
        "                # suck the dirt and mark it as clean\n",
        "                cost += 1  # cost for suck\n",
        "                print(\"COST for SUCK \" + str(cost))\n",
        "                print(\"Location A has been Cleaned.\")\n",
        "\n",
        "        else:\n",
        "            print(cost)\n",
        "            # suck and mark clean\n",
        "            print(\"Location B is already clean.\")\n",
        "\n",
        "            if status_input_complement == '1':  # if A is Dirty\n",
        "                print(\"Location A is Dirty.\")\n",
        "                print(\"Moving LEFT to the Location A. \")\n",
        "                cost += 1  # cost for moving right\n",
        "                print(\"COST for moving LEFT \" + str(cost))\n",
        "                # suck the dirt and mark it as clean\n",
        "                cost += 1  # cost for suck\n",
        "                print(\"Cost for SUCK \" + str(cost))\n",
        "                print(\"Location A has been Cleaned. \")\n",
        "            else:\n",
        "                print(\"No action \" + str(cost))\n",
        "                # suck and mark clean\n",
        "                print(\"Location A is already clean.\")\n",
        "\n",
        "    # done cleaning\n",
        "    print(\"GOAL STATE: \")\n",
        "    print(goal_state)\n",
        "    print(\"Performance Measurement: \" + str(cost))\n",
        "\n",
        "print(\"0 indicates clean and 1 indicates dirty\")\n",
        "vacuum_world()\n"
      ]
    }
  ]
}