{
  "nbformat": 4,
  "nbformat_minor": 0,
  "metadata": {
    "colab": {
      "provenance": [],
      "authorship_tag": "ABX9TyMtY0WP1SmTbzD7GKVcNNPe",
      "include_colab_link": true
    },
    "kernelspec": {
      "name": "python3",
      "display_name": "Python 3"
    },
    "language_info": {
      "name": "python"
    }
  },
  "cells": [
    {
      "cell_type": "markdown",
      "metadata": {
        "id": "view-in-github",
        "colab_type": "text"
      },
      "source": [
        "<a href=\"https://colab.research.google.com/github/Kaushik1526/1BM21CS089-AI/blob/main/Vaccumcleaner2.ipynb\" target=\"_parent\"><img src=\"https://colab.research.google.com/assets/colab-badge.svg\" alt=\"Open In Colab\"/></a>"
      ]
    },
    {
      "cell_type": "code",
      "source": [
        "def vacuum_world():\n",
        "    # 0 indicates Clean and 1 indicates Dirty\n",
        "    goal_state = {'A': '0', 'B': '0'}\n",
        "    cost = 0\n",
        "\n",
        "    location_input = input(\"Enter Location of Vacuum\")\n",
        "    status_input = input(\"Enter status of \" + location_input)\n",
        "    status_input_complement = input(\"Enter status of other room\")\n",
        "\n",
        "    if location_input == 'A':\n",
        "        # Location A is Dirty.\n",
        "        print(\"Vacuum is placed in Location A\")\n",
        "        if status_input == '1':\n",
        "            print(\"Location A is Dirty.\")\n",
        "            # suck the dirt  and mark it as clean\n",
        "            cost += 1                      #cost for suck\n",
        "            print(\"Cost for CLEANING A \" + str(cost))\n",
        "            print(\"Location A has been Cleaned.\")\n",
        "\n",
        "            if status_input_complement == '1':\n",
        "                # if B is Dirty\n",
        "                print(\"Location B is Dirty.\")\n",
        "                print(\"Moving right to the Location B. \")\n",
        "                cost += 1                       #cost for moving right\n",
        "                print(\"COST for moving RIGHT\" + str(cost))\n",
        "                # suck the dirt and mark it as clean\n",
        "                cost += 1                       #cost for suck\n",
        "                print(\"COST for SUCK \" + str(cost))\n",
        "                print(\"Location B has been Cleaned. \")\n",
        "            else:\n",
        "                print(\"No action\" + str(cost))\n",
        "                # suck and mark clean\n",
        "                print(\"Location B is already clean.\")\n",
        "\n",
        "        if status_input == '0':\n",
        "            print(\"Location A is already clean \")\n",
        "            if status_input_complement == '1':# if B is Dirty\n",
        "                print(\"Location B is Dirty.\")\n",
        "                print(\"Moving RIGHT to the Location B. \")\n",
        "                cost += 1                       #cost for moving right\n",
        "                print(\"COST for moving RIGHT \" + str(cost))\n",
        "                # suck the dirt and mark it as clean\n",
        "                cost += 1                       #cost for suck\n",
        "                print(\"Cost for SUCK\" + str(cost))\n",
        "                print(\"Location B has been Cleaned. \")\n",
        "            else:\n",
        "                print(\"No action \" + str(cost))\n",
        "                print(cost)\n",
        "                # suck and mark clean\n",
        "                print(\"Location B is already clean.\")\n",
        "\n",
        "    else:\n",
        "        print(\"Vacuum is placed in location B\")\n",
        "        # Location B is Dirty.\n",
        "        if status_input == '1':\n",
        "            print(\"Location B is Dirty.\")\n",
        "            # suck the dirt  and mark it as clean\n",
        "            cost += 1  # cost for suck\n",
        "            print(\"COST for CLEANING \" + str(cost))\n",
        "            print(\"Location B has been Cleaned.\")\n",
        "\n",
        "            if status_input_complement == '1':\n",
        "                # if A is Dirty\n",
        "                print(\"Location A is Dirty.\")\n",
        "                print(\"Moving LEFT to the Location A. \")\n",
        "                cost += 1  # cost for moving right\n",
        "                print(\"COST for moving LEFT\" + str(cost))\n",
        "                # suck the dirt and mark it as clean\n",
        "                cost += 1  # cost for suck\n",
        "                print(\"COST for SUCK \" + str(cost))\n",
        "                print(\"Location A has been Cleaned.\")\n",
        "\n",
        "        else:\n",
        "            print(cost)\n",
        "            # suck and mark clean\n",
        "            print(\"Location B is already clean.\")\n",
        "\n",
        "            if status_input_complement == '1':  # if A is Dirty\n",
        "                print(\"Location A is Dirty.\")\n",
        "                print(\"Moving LEFT to the Location A. \")\n",
        "                cost += 1  # cost for moving right\n",
        "                print(\"COST for moving LEFT \" + str(cost))\n",
        "                # suck the dirt and mark it as clean\n",
        "                cost += 1  # cost for suck\n",
        "                print(\"Cost for SUCK \" + str(cost))\n",
        "                print(\"Location A has been Cleaned. \")\n",
        "            else:\n",
        "                print(\"No action \" + str(cost))\n",
        "                # suck and mark clean\n",
        "                print(\"Location A is already clean.\")\n",
        "\n",
        "    # done cleaning\n",
        "    print(\"GOAL STATE: \")\n",
        "    print(goal_state)\n",
        "    print(\"Performance Measurement: \" + str(cost))\n",
        "\n",
        "print(\"0 indicates clean and 1 indicates dirty\")\n",
        "vacuum_world()"
      ],
      "metadata": {
        "colab": {
          "base_uri": "https://localhost:8080/"
        },
        "id": "bFfLTzsDnFhu",
        "outputId": "ada38559-9760-4a7f-c12c-0d3e51b0475d"
      },
      "execution_count": 3,
      "outputs": [
        {
          "output_type": "stream",
          "name": "stdout",
          "text": [
            "0 indicates clean and 1 indicates dirty\n",
            "Enter Location of Vacuumb\n",
            "Enter status of bclean\n",
            "Enter status of other roomdirty\n",
            "Vacuum is placed in location B\n",
            "0\n",
            "Location B is already clean.\n",
            "No action 0\n",
            "Location A is already clean.\n",
            "GOAL STATE: \n",
            "{'A': '0', 'B': '0'}\n",
            "Performance Measurement: 0\n"
          ]
        }
      ]
    },
    {
      "cell_type": "code",
      "execution_count": 5,
      "metadata": {
        "colab": {
          "base_uri": "https://localhost:8080/"
        },
        "id": "uFyVnkclmvQ0",
        "outputId": "cb040ecb-0786-4e9a-c0dd-c2d1a28abb80"
      },
      "outputs": [
        {
          "output_type": "stream",
          "name": "stdout",
          "text": [
            "Enter Initial Location of Vacuum (A/B/C/D): B\n",
            "Enter status of each room (1 - dirty, 0 - clean):\n",
            "Status of Room A: 1\n",
            "Status of Room B: 0\n",
            "Status of Room C: 1\n",
            "Status of Room D: 0\n",
            "Initial Location Condition: {'A': 1, 'B': 0, 'C': 1, 'D': 0}\n",
            "Room B is already clean.\n",
            "Cleaning Room C...\n",
            "Room C has been cleaned. Current cost: 1\n",
            "Room D is already clean.\n",
            "Cleaning Room A...\n",
            "Room A has been cleaned. Current cost: 2\n",
            "Final State of Rooms: {'A': 0, 'B': 0, 'C': 0, 'D': 0}\n",
            "Performance Measurement (Total Cost): 6\n"
          ]
        }
      ],
      "source": [
        "01def vacuum_world():\n",
        "    # Initializing goal_state for four rooms\n",
        "    # 0 indicates Clean and 1 indicates Dirty\n",
        "    goal_state = {'A': 0, 'B': 0, 'C': 0, 'D': 0}\n",
        "    cost = 0\n",
        "\n",
        "    # User input for initial vacuum location and status of each room\n",
        "    location_input = input(\"Enter Initial Location of Vacuum (A/B/C/D): \")\n",
        "    print(\"Enter status of each room (1 - dirty, 0 - clean):\")\n",
        "    for room in goal_state:\n",
        "        goal_state[room] = int(input(f\"Status of Room {room}: \"))\n",
        "\n",
        "    print(\"Initial Location Condition: \" + str(goal_state))\n",
        "\n",
        "    # Function to clean a room\n",
        "    def clean_room(room):\n",
        "        nonlocal cost\n",
        "        if goal_state[room] == 1:\n",
        "            print(f\"Cleaning Room {room}...\")\n",
        "            goal_state[room] = 0\n",
        "            cost += 1  # Cost for cleaning\n",
        "            print(f\"Room {room} has been cleaned. Current cost: {cost}\")\n",
        "        else:\n",
        "            print(f\"Room {room} is already clean.\")\n",
        "\n",
        "    # Cleaning logic\n",
        "    rooms = ['A', 'B', 'C', 'D']\n",
        "    current_index = rooms.index(location_input)\n",
        "\n",
        "    # Clean all rooms starting from the initial location\n",
        "    for i in range(current_index, len(rooms)):\n",
        "        clean_room(rooms[i])\n",
        "\n",
        "    # Clean remaining rooms (if the initial location was not 'A')\n",
        "    for i in range(0, current_index):\n",
        "        clean_room(rooms[i])\n",
        "\n",
        "    # Output final state and performance measure\n",
        "    print(\"Final State of Rooms: \" + str(goal_state))\n",
        "    print(\"Performance Measurement (Total Cost): \" + str(cost+4))\n",
        "\n",
        "vacuum_world()\n"
      ]
    }
  ]
}